{
 "cells": [
  {
   "cell_type": "markdown",
   "id": "102ba9f1-73f2-4469-9fa7-dda1b64cdbcd",
   "metadata": {},
   "source": [
    "# 02 - Notable Drivers vs Teammate\n"
   ]
  },
  {
   "cell_type": "markdown",
   "id": "cf341842-176a-443c-910b-6f93ca9021f3",
   "metadata": {},
   "source": [
    "## Motivation\n",
    "\n",
    "As explored in the previous notebook `01: Drivers vs. Teammate`, in Formula 1, one of the best indicators of a driver’s performance is how he fares against his teammate. After having compared **WinRatios** across all drivers over their entire careers and related them to **Number of Races** (total race entries), we will dive deeper into the topic.\n",
    "\n",
    "The previous analysis masked an important detail: a driver's **WinRatio** can vary dramatically over time, depending on the season and the teammate he is paired with. By focusing on on a few notable drivers, we will see how their **Win Ratios** evolve year‑by‑year and with different teammates and reveal fine‑grained performance nuances.\n"
   ]
  },
  {
   "cell_type": "markdown",
   "id": "0ad51be7-19dc-47ab-ac4d-2285c4a818d2",
   "metadata": {},
   "source": [
    "## Method\n",
    "\n",
    "The calculation of a driver’s **Win Ratio** follows the same procedure described in the previous notebook; the only change is that we now compute it **per driver per year**. We will then choose a driver of interest, identify their respective teammate for each season, and plot the yearly **WinRatio**s side‑by‑side to highlight how the driver’s performance varies across seasons and teammate pairings.\n"
   ]
  },
  {
   "cell_type": "markdown",
   "id": "83fcb133-8c26-4bd3-a1fb-ff56b01e376f",
   "metadata": {},
   "source": [
    "## Gathering data\n",
    "\n",
    "Thanks to a database wrapper and a prepared SQL query, we can easily obtain an up‑to‑date table of every race result in F1 history. The query returns one row for each driver‑teammate pairing in every Grand Prix they entered. Each row includes information on:\n",
    "\n",
    "- race\n",
    "- team\n",
    "- driver\n",
    "- teammate\n",
    "- result (`win`, `loss` or `draw`) indicating whether the driver finished _higher_, _lower_, or _tied_ with his teammate.\n",
    "- (if a teammate DNFs, the race is recorded as a `win` for the driver; if both DNF, it’s recorded as a `draw`)\n",
    "\n",
    "**Example**\n",
    "\n",
    "If, in a particular race, **Verstappen** finishes first and his teammate **Pérez** finishes second, the result set will contain two rows:\n",
    "\n",
    "| RaceID | Team     | Driver     | Teammate   | Result |\n",
    "| ------ | -------- | ---------- | ---------- | ------ |\n",
    "| 1036   | Red Bull | Verstappen | Pérez      | win    |\n",
    "| 1036   | Red Bull | Pérez      | Verstappen | loss   |\n"
   ]
  },
  {
   "cell_type": "code",
   "execution_count": null,
   "id": "6f29554a",
   "metadata": {},
   "outputs": [],
   "source": [
    "import pandas as pd\n",
    "\n",
    "from f1_analysis.f1db import F1DB\n",
    "\n",
    "f1db = F1DB()\n",
    "\n",
    "df = pd.DataFrame(f1db.execute_sql_query(\"driver_vs_teammate_h2h.sql\"))\n",
    "df.columns = [\n",
    "    \"RaceId\",\n",
    "    \"Year\",\n",
    "    \"ConstructorId\",\n",
    "    \"ConstructorName\",\n",
    "    \"DriverId\",\n",
    "    \"DriverAbbreviation\",\n",
    "    \"DriverName\",\n",
    "    \"TeammateId\",\n",
    "    \"TeammateAbbreviation\",\n",
    "    \"TeammateName\",\n",
    "    \"Result\",\n",
    "]"
   ]
  },
  {
   "cell_type": "markdown",
   "id": "30ff17f7-395e-4067-a574-e8f876885a04",
   "metadata": {},
   "source": [
    "## Processing the data\n",
    "\n",
    "To compute each driver’s **WinRatio**, we first group the data by **DriverId** and **Year**. For each driver and year pairing, we calculate:\n",
    "\n",
    "| Metric               | Definition                                                           |\n",
    "| -------------------- | -------------------------------------------------------------------- |\n",
    "| **NumberOfWins**     | Count of rows where `Result = 'win'`                                 |\n",
    "| **NumberOfMatchups** | Total number of rows for the driver (each teammate‑race combination) |\n",
    "| **NumberOfRaces**    | Count of distinct races the driver actually participated in          |\n",
    "\n",
    "The distinction between **NumberOfMatchups** and **NumberOfRaces** matters because, in some eras of Formula 1, a team fielded more than two drivers. Counting every row would inflate the race total, since a single race can generate multiple matchup rows for the same driver.\n",
    "\n",
    "### Example\n",
    "\n",
    "In race 1, driver **Fagioli** faces three teammates — **Farina**, **Parnell**, and **Fangio**. The result set contains three rows for Fagioli:\n",
    "\n",
    "| RaceID | Team       | Driver  | Teammate | Result |\n",
    "| ------ | ---------- | ------- | -------- | ------ |\n",
    "| 1      | Alfa Romeo | Fagioli | Farina   | loss   |\n",
    "| 1      | Alfa Romeo | Fagioli | Parnell  | win    |\n",
    "| 1      | Alfa Romeo | Fagioli | Fangio   | win    |\n",
    "\n",
    "- **NumberOfMatchups** = 3 (one row per teammate)\n",
    "- **NumberOfWins** = 2\n",
    "- **WinRatio** = 2 / 3 ≈ 0.66\n",
    "- **NumberOfRaces** = 1\n",
    "\n",
    "When counting **NumberOfRaces**, all three rows correspond to a single race, so they contribute **1** to the race total. This ensures the win ratio reflects performance per matchup, while the race count reflects actual participation.\n"
   ]
  },
  {
   "cell_type": "code",
   "execution_count": null,
   "id": "e6bcff0e-a49e-444d-9264-ced2fa49d756",
   "metadata": {},
   "outputs": [],
   "source": [
    "win_ratios = (\n",
    "    df.groupby([\"DriverId\", \"Year\"])\n",
    "    .agg(\n",
    "        DriverName=(\"DriverName\", \"first\"),\n",
    "        DriverAbbreviation=(\"DriverAbbreviation\", \"first\"),\n",
    "        NumberOfMatchups=(\"DriverId\", \"count\"),\n",
    "        NumberOfWins=(\"Result\", lambda r: (r == \"win\").sum()),\n",
    "        NumberOfRaces=(\"RaceId\", pd.Series.nunique),\n",
    "    )\n",
    "    .reset_index()\n",
    ")\n",
    "\n",
    "win_ratios[\"WinRatio\"] = (\n",
    "    win_ratios[\"NumberOfWins\"] / win_ratios[\"NumberOfMatchups\"]\n",
    ").round(4)"
   ]
  },
  {
   "cell_type": "markdown",
   "id": "d961024e-21fd-48e9-9202-d72fb7bd03e0",
   "metadata": {},
   "source": [
    "## Filtering the Data\n",
    "\n",
    "After calculating the metrics, we need to isolate the records for a single driver and his teammates. We’ll encapsulate the logic in reusable functions so it can be applied to any driver of interest. First, we filter the dataset for the selected driver and keep his yearly **WinRatio**s. Next, for each season we identify all drivers who were paired with him and select their respective results; if a driver had multiple teammates in a season, we retain only the teammate with the highest **NumberOfRaces**.\n"
   ]
  },
  {
   "cell_type": "code",
   "execution_count": null,
   "id": "a75d5c97-c880-4b3c-a189-c264923631fd",
   "metadata": {},
   "outputs": [],
   "source": [
    "def get_driver_win_ratios(driver_id):\n",
    "    return win_ratios[win_ratios[\"DriverId\"] == driver_id]\n",
    "\n",
    "\n",
    "def get_teammates_win_ratios(driver_id):\n",
    "    teammates_by_year = df[df[\"DriverId\"] == driver_id][\n",
    "        [\"TeammateId\", \"Year\"]\n",
    "    ].drop_duplicates()\n",
    "\n",
    "    teammates_win_ratios = pd.merge(\n",
    "        left=teammates_by_year,\n",
    "        right=win_ratios,\n",
    "        how=\"left\",\n",
    "        left_on=[\"TeammateId\", \"Year\"],\n",
    "        right_on=[\"DriverId\", \"Year\"],\n",
    "    ).drop(\"TeammateId\", axis=1)\n",
    "\n",
    "    return teammates_win_ratios.loc[\n",
    "        teammates_win_ratios.groupby(\"Year\")[\"NumberOfRaces\"].idxmax()\n",
    "    ].reset_index(drop=True)"
   ]
  },
  {
   "cell_type": "markdown",
   "id": "ec2c980a-e67c-4b8c-af49-0c0cba9e7057",
   "metadata": {},
   "source": [
    "## Plotting the data\n",
    "\n",
    "Again, as a reusable function, we plot the driver and the teamates as two traces on a line-chart, showing **WinRatio** per season.\n"
   ]
  },
  {
   "cell_type": "code",
   "execution_count": null,
   "id": "781f7368-38c3-4c5a-8f79-768fa97f81a9",
   "metadata": {},
   "outputs": [],
   "source": [
    "import plotly.graph_objects as go\n",
    "\n",
    "\n",
    "def plot_driver_vs_teammates(driver_id):\n",
    "    driver_win_ratios = get_driver_win_ratios(driver_id)\n",
    "    teammates_win_ratios = get_teammates_win_ratios(driver_id)\n",
    "\n",
    "    driver_trace = go.Scatter(\n",
    "        name=\"Driver\",\n",
    "        x=driver_win_ratios[\"Year\"],\n",
    "        y=driver_win_ratios[\"WinRatio\"],\n",
    "        text=driver_win_ratios[\"DriverName\"].iloc[0],\n",
    "        mode=\"lines+markers\",\n",
    "        marker=dict(size=8),\n",
    "        line=dict(color=\"red\"),\n",
    "    )\n",
    "\n",
    "    teammates_trace = go.Scatter(\n",
    "        name=\"Teammate\",\n",
    "        x=teammates_win_ratios[\"Year\"],\n",
    "        y=teammates_win_ratios[\"WinRatio\"],\n",
    "        text=teammates_win_ratios[\"DriverAbbreviation\"],\n",
    "        textposition=\"bottom left\",\n",
    "        mode=\"lines+markers+text\",\n",
    "        marker=dict(size=8),\n",
    "        line=dict(color=\"blue\"),\n",
    "        hovertext=teammates_win_ratios[\"DriverName\"],\n",
    "    )\n",
    "\n",
    "    layout = go.Layout(\n",
    "        xaxis_title=\"Year\",\n",
    "        xaxis=dict(dtick=1),\n",
    "        yaxis_title=\"Win ratio\",\n",
    "        yaxis=dict(dtick=0.1),\n",
    "        yaxis_range=[0, 1],\n",
    "        height=800,\n",
    "    )\n",
    "\n",
    "    fig = go.Figure(data=[driver_trace, teammates_trace], layout=layout)\n",
    "    fig.show()"
   ]
  },
  {
   "cell_type": "markdown",
   "id": "ebb1bd72-f56e-4711-9f2d-58ebdc373f38",
   "metadata": {},
   "source": [
    "## Analyzing Drivers\n",
    "\n",
    "With the data prepared, the calculations in place, and reusable functions for selecting and visualising individual drivers, we can now explore the results!\n",
    "\n",
    "To use the helper functions, we first need the **driver_id** of each driver we want to analyze. Although the **driver_id** can be guessed for most drivers, the reliable way is to query the database they originate from.\n"
   ]
  },
  {
   "cell_type": "code",
   "execution_count": null,
   "id": "c4c92560-d2aa-4683-8d88-67293616a268",
   "metadata": {},
   "outputs": [],
   "source": [
    "results = [\n",
    "    row[0]\n",
    "    for row in f1db.execute_raw_sql_query(\n",
    "        \"SELECT id FROM driver WHERE name like '%max verstappen%'\"\n",
    "    )\n",
    "]\n",
    "\n",
    "plot_driver_vs_teammates(results[0])"
   ]
  },
  {
   "cell_type": "code",
   "execution_count": null,
   "id": "028cf460-1d73-4a07-80ab-f8b003ec6e9d",
   "metadata": {},
   "outputs": [],
   "source": []
  }
 ],
 "metadata": {
  "kernelspec": {
   "display_name": "Python 3 (ipykernel)",
   "language": "python",
   "name": "python3"
  },
  "language_info": {
   "codemirror_mode": {
    "name": "ipython",
    "version": 3
   },
   "file_extension": ".py",
   "mimetype": "text/x-python",
   "name": "python",
   "nbconvert_exporter": "python",
   "pygments_lexer": "ipython3"
  }
 },
 "nbformat": 4,
 "nbformat_minor": 5
}
