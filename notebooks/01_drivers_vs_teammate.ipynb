{
 "cells": [
  {
   "cell_type": "markdown",
   "id": "83af56f5-6ee7-46b3-b33c-3be2a954809f",
   "metadata": {},
   "source": [
    "# 01: Drivers vs. Teammate\n"
   ]
  },
  {
   "cell_type": "markdown",
   "id": "1b3846ca-1e6d-4872-a694-f633d510e1a6",
   "metadata": {},
   "source": [
    "## Motivation\n",
    "\n",
    "In Formula 1, one of the best indicators of a driver’s performance is how he fares against his teammate. Modern F1 teams each field two drivers who share essentially identical machinery. While inter‑team comparisons are complicated by differing car performance, intra‑team comparisons are far more straightforward and reliable. If a driver consistently finishes ahead of his teammate in equal machinery, he is very likely the stronger driver.\n"
   ]
  },
  {
   "cell_type": "markdown",
   "id": "84a5b1c0-882f-4836-b867-39b89aae882a",
   "metadata": {},
   "source": [
    "## Method\n",
    "\n",
    "To assess how each driver measures up against his teammates over a career, we first compute a **WinRatio** (wins ÷ total head‑to‑head races). However, a 50 % win‑ratio is far more impressive for a driver with only a handful of races than for one with hundreds. Therefore, we also factor in the **NumberOfRaces** and display both metrics on a scatter plot, visualizing **WinRatio** in the context of sample size, highlighting drivers who consistently outperform their teammates across many races.\n"
   ]
  },
  {
   "cell_type": "markdown",
   "id": "116b4d51-020a-4130-be7c-e218df206e0f",
   "metadata": {},
   "source": [
    "## Gathering data\n",
    "\n",
    "Thanks to a database wrapper and a prepared SQL query, we can easily obtain an up‑to‑date table of every race result in F1 history. The query returns one row for each driver‑teammate pairing in every Grand Prix they entered. Each row includes information on:\n",
    "\n",
    "- race\n",
    "- team\n",
    "- driver\n",
    "- teammate\n",
    "- result (`win`, `loss` or `draw`) indicating whether the driver finished _higher_, _lower_, or _tied_ with his teammate.\n",
    "- (if a teammate DNFs, the race is recorded as a `win` for the driver; if both DNF, it’s recorded as a `draw`)\n",
    "\n",
    "**Example**\n",
    "\n",
    "If, in a particular race, **Verstappen** finishes first and his teammate **Pérez** finishes second, the result set will contain two rows:\n",
    "\n",
    "| RaceID | Team     | Driver     | Teammate   | Result |\n",
    "| ------ | -------- | ---------- | ---------- | ------ |\n",
    "| 1036   | Red Bull | Verstappen | Pérez      | win    |\n",
    "| 1036   | Red Bull | Pérez      | Verstappen | loss   |\n"
   ]
  },
  {
   "cell_type": "code",
   "execution_count": null,
   "id": "ae56709d",
   "metadata": {},
   "outputs": [],
   "source": [
    "import pandas as pd\n",
    "\n",
    "from f1_analysis.f1db import F1DB\n",
    "\n",
    "f1db = F1DB()\n",
    "\n",
    "df = pd.DataFrame(f1db.execute_sql_query(\"driver_vs_teammate_h2h.sql\"))\n",
    "df.columns = [\n",
    "    \"RaceId\",\n",
    "    \"Year\",\n",
    "    \"ConstructorId\",\n",
    "    \"ConstructorName\",\n",
    "    \"DriverId\",\n",
    "    \"DriverAbbreviation\",\n",
    "    \"DriverName\",\n",
    "    \"TeammateId\",\n",
    "    \"TeammateAbbreviation\",\n",
    "    \"TeammateName\",\n",
    "    \"Result\",\n",
    "]"
   ]
  },
  {
   "cell_type": "markdown",
   "id": "04393977-6c17-49b4-8bc9-afa110f92b53",
   "metadata": {},
   "source": [
    "## Processing the data\n",
    "\n",
    "To compute each driver’s **WinRatio**, we first group the data by **DriverId**. For each driver, we calculate:\n",
    "\n",
    "| Metric               | Definition                                                           |\n",
    "| -------------------- | -------------------------------------------------------------------- |\n",
    "| **NumberOfWins**     | Count of rows where `Result = 'win'`                                 |\n",
    "| **NumberOfMatchups** | Total number of rows for the driver (each teammate‑race combination) |\n",
    "| **NumberOfRaces**    | Count of distinct races the driver actually participated in          |\n",
    "\n",
    "The distinction between **NumberOfMatchups** and **NumberOfRaces** matters because, in some eras of Formula 1, a team fielded more than two drivers. Counting every row would inflate the race total, since a single race can generate multiple matchup rows for the same driver.\n",
    "\n",
    "### Example\n",
    "\n",
    "In race 1, driver **Fagioli** faces three teammates — **Farina**, **Parnell**, and **Fangio**. The result set contains three rows for Fagioli:\n",
    "\n",
    "| RaceID | Team       | Driver  | Teammate | Result |\n",
    "| ------ | ---------- | ------- | -------- | ------ |\n",
    "| 1      | Alfa Romeo | Fagioli | Farina   | loss   |\n",
    "| 1      | Alfa Romeo | Fagioli | Parnell  | win    |\n",
    "| 1      | Alfa Romeo | Fagioli | Fangio   | win    |\n",
    "\n",
    "- **NumberOfMatchups** = 3 (one row per teammate)\n",
    "- **NumberOfWins** = 2\n",
    "- **WinRatio** = 2 / 3 ≈ 0.66\n",
    "- **NumberOfRaces** = 1\n",
    "\n",
    "When counting **NumberOfRaces**, all three rows correspond to a single race, so they contribute **1** to the race total. This ensures the win ratio reflects performance per matchup, while the race count reflects actual participation.\n"
   ]
  },
  {
   "cell_type": "code",
   "execution_count": null,
   "id": "56388f7b-214e-45ab-8949-86dad404c89d",
   "metadata": {},
   "outputs": [],
   "source": [
    "df = (\n",
    "    df.groupby(\"DriverId\")\n",
    "    .agg(\n",
    "        DriverName=(\"DriverName\", \"first\"),\n",
    "        NumberOfMatchups=(\"DriverId\", \"count\"),\n",
    "        NumberOfWins=(\"Result\", lambda r: (r == \"win\").sum()),\n",
    "        NumberOfRaces=(\"RaceId\", pd.Series.nunique),\n",
    "    )\n",
    "    .reset_index()\n",
    ")\n",
    "\n",
    "df[\"WinRatio\"] = (df[\"NumberOfWins\"] / df[\"NumberOfMatchups\"]).round(4)"
   ]
  },
  {
   "cell_type": "markdown",
   "id": "fd237a67-50bb-44f9-8b25-18f3d8b45f5c",
   "metadata": {},
   "source": [
    "## Plotting the data\n",
    "\n",
    "To get a quick overview, we plot the data on a scatter chart.\n"
   ]
  },
  {
   "cell_type": "code",
   "execution_count": null,
   "id": "bc9fdb54-7ab8-48f1-b902-e08b56dc662e",
   "metadata": {},
   "outputs": [],
   "source": [
    "import plotly.graph_objects as go\n",
    "\n",
    "all_drivers = go.Scatter(\n",
    "    name=\"Drivers\",\n",
    "    x=df[\"NumberOfRaces\"],\n",
    "    y=df[\"WinRatio\"],\n",
    "    text=df[\"DriverName\"],\n",
    "    mode=\"markers\",\n",
    ")\n",
    "\n",
    "layout = go.Layout(\n",
    "    xaxis_title=\"Number of races\",\n",
    "    yaxis_title=\"Win ratio\",\n",
    "    xaxis=dict(dtick=25),\n",
    "    yaxis=dict(dtick=0.1),\n",
    "    yaxis_range=[-0.1, 1],\n",
    "    height=800,\n",
    ")\n",
    "\n",
    "go.Figure(data=[all_drivers], layout=layout).show()"
   ]
  },
  {
   "cell_type": "markdown",
   "id": "1cd6577a-44e8-4bda-86d6-a1b8c33e6768",
   "metadata": {},
   "source": [
    "As expected, several notable drivers appear as outliers in the upper‑right corner, having competed in many races and achieved above‑average win ratios.\n",
    "\n",
    "We also see that drivers from more recent eras cluster toward the right, reflecting the steady increase in the number of races per season.\n",
    "\n",
    "It is, however, difficult to identify individual drivers; or those with consistently strong track records, so let us refine the plot.\n"
   ]
  },
  {
   "cell_type": "markdown",
   "id": "27103814-37de-41b7-8714-c4aadb0449dd",
   "metadata": {},
   "source": [
    "## Refining the data\n",
    "\n",
    "First, we exclude drivers who have started fewer than 25 races. A modern Formula 1 season typically includes about 25 events, so drivers with fewer starts provide limited insight into overall trends.\n",
    "\n",
    "Next, we highlight drivers who have won at least one race. A race win is a notable achievement, and comparing the **WinRatio** of race winners to that of the broader driver pool could reveal performance differences.\n",
    "\n",
    "Finally, we highlight world champions. Only a small number of drivers have secured a championship, so we expect them to cluster in the upper‑right region of the plot. It will also be interesting to see whether any champions appear among the more centrally located, average‑performing drivers.\n"
   ]
  },
  {
   "cell_type": "code",
   "execution_count": null,
   "id": "91517d7e-04c9-440b-bfe1-261e0f7e3b93",
   "metadata": {},
   "outputs": [],
   "source": [
    "race_winner_list = (\n",
    "    pd.DataFrame(\n",
    "        f1db.execute_raw_sql_query(\n",
    "            \"SELECT driver_id FROM race_result WHERE position_number = 1\"\n",
    "        )\n",
    "    )[0]\n",
    "    .unique()\n",
    "    .tolist()\n",
    ")\n",
    "\n",
    "world_champion_list = (\n",
    "    pd.DataFrame(\n",
    "        f1db.execute_raw_sql_query(\n",
    "            \"SELECT driver_id FROM season_driver WHERE position_number = 1 AND year != strftime('%Y', 'now')\"\n",
    "        )\n",
    "    )[0]\n",
    "    .unique()\n",
    "    .tolist()\n",
    ")\n",
    "\n",
    "seasoned_drivers = df[df[\"NumberOfRaces\"] > 24]\n",
    "\n",
    "race_winners = seasoned_drivers[seasoned_drivers[\"DriverId\"].isin(race_winner_list)]\n",
    "world_champions = seasoned_drivers[\n",
    "    seasoned_drivers[\"DriverId\"].isin(world_champion_list)\n",
    "]\n",
    "\n",
    "seasoned_drivers_scatter = go.Scatter(\n",
    "    name=\"Seasoned Drivers\",\n",
    "    x=seasoned_drivers[\"NumberOfRaces\"],\n",
    "    y=seasoned_drivers[\"WinRatio\"],\n",
    "    text=seasoned_drivers[\"DriverName\"],\n",
    "    mode=\"markers\",\n",
    ")\n",
    "\n",
    "race_winners_scatter = go.Scatter(\n",
    "    name=\"Race Winners\",\n",
    "    x=race_winners[\"NumberOfRaces\"],\n",
    "    y=race_winners[\"WinRatio\"],\n",
    "    text=race_winners[\"DriverName\"],\n",
    "    mode=\"markers\",\n",
    "    marker=dict(color=\"orange\"),\n",
    ")\n",
    "\n",
    "world_champions_scatter = go.Scatter(\n",
    "    name=\"World Champions\",\n",
    "    x=world_champions[\"NumberOfRaces\"],\n",
    "    y=world_champions[\"WinRatio\"],\n",
    "    text=world_champions[\"DriverName\"],\n",
    "    mode=\"markers\",\n",
    "    marker=dict(color=\"red\"),\n",
    ")\n",
    "\n",
    "go.Figure(\n",
    "    data=[seasoned_drivers_scatter, race_winners_scatter, world_champions_scatter],\n",
    "    layout=layout,\n",
    ").show()"
   ]
  }
 ],
 "metadata": {
  "kernelspec": {
   "display_name": "Python 3 (ipykernel)",
   "language": "python",
   "name": "python3"
  },
  "language_info": {
   "codemirror_mode": {
    "name": "ipython",
    "version": 3
   },
   "file_extension": ".py",
   "mimetype": "text/x-python",
   "name": "python",
   "nbconvert_exporter": "python",
   "pygments_lexer": "ipython3"
  }
 },
 "nbformat": 4,
 "nbformat_minor": 5
}
